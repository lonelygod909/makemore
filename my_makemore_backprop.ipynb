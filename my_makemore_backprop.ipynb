{
 "cells": [
  {
   "cell_type": "code",
   "id": "3124162a6e451ebd",
   "metadata": {
    "ExecuteTime": {
     "end_time": "2025-02-07T07:14:34.424036Z",
     "start_time": "2025-02-07T07:14:31.831738Z"
    }
   },
   "source": [
    "import torch\n",
    "import torch.nn.functional as F\n",
    "import matplotlib.pyplot as plt\n",
    "\n",
    "%matplotlib inline"
   ],
   "outputs": [],
   "execution_count": 1
  },
  {
   "metadata": {
    "collapsed": true,
    "ExecuteTime": {
     "end_time": "2025-02-07T07:14:34.441783Z",
     "start_time": "2025-02-07T07:14:34.428670Z"
    }
   },
   "cell_type": "code",
   "source": [
    "# read in words\n",
    "words = open('names.txt', 'r').read().splitlines()\n",
    "words[:8]"
   ],
   "id": "initial_id",
   "outputs": [
    {
     "data": {
      "text/plain": [
       "['emma', 'olivia', 'ava', 'isabella', 'sophia', 'charlotte', 'mia', 'amelia']"
      ]
     },
     "execution_count": 2,
     "metadata": {},
     "output_type": "execute_result"
    }
   ],
   "execution_count": 2
  },
  {
   "metadata": {
    "ExecuteTime": {
     "end_time": "2025-02-07T07:14:34.593589Z",
     "start_time": "2025-02-07T07:14:34.590040Z"
    }
   },
   "cell_type": "code",
   "source": [
    "chars = sorted(list(set(''.join(words))))\n",
    "stoi = {s:i+1 for i, s in enumerate(chars)}\n",
    "stoi['.'] = 0\n",
    "itos = {i:s for s, i in stoi.items()}\n",
    "print(itos)"
   ],
   "id": "58a39a0c8969ff5e",
   "outputs": [
    {
     "name": "stdout",
     "output_type": "stream",
     "text": [
      "{1: 'a', 2: 'b', 3: 'c', 4: 'd', 5: 'e', 6: 'f', 7: 'g', 8: 'h', 9: 'i', 10: 'j', 11: 'k', 12: 'l', 13: 'm', 14: 'n', 15: 'o', 16: 'p', 17: 'q', 18: 'r', 19: 's', 20: 't', 21: 'u', 22: 'v', 23: 'w', 24: 'x', 25: 'y', 26: 'z', 0: '.'}\n"
     ]
    }
   ],
   "execution_count": 3
  },
  {
   "metadata": {},
   "cell_type": "code",
   "source": [
    "block_size = 3\n",
    "def build_dataset(words):\n",
    "    block_size = 3\n",
    "    X, Y = [] , []\n",
    "    for w in words:\n",
    "        #print(w)\n",
    "        context = [0] * block_size\n",
    "        for ch in w + '.':\n",
    "            ix = stoi[ch]\n",
    "            X.append(context)\n",
    "            Y.append(ix)\n",
    "            #print(''.join(itos[i] for i in context), '--->', itos[ix])\n",
    "            context = context[1:] + [ix]\n",
    "\n",
    "    X = torch.tensor(X)\n",
    "    Y = torch.tensor(Y)\n",
    "    print(X.shape, Y.shape)\n",
    "    return X, Y\n",
    "\n",
    "import random\n",
    "random.seed(42)\n",
    "random.shuffle(words)\n",
    "n1 = int(0.8 * len(words))\n",
    "n2 = int(0.9 * len(words))\n",
    "\n",
    "Xtr, Ytr = build_dataset(words[:n1])\n",
    "Xdev, Ydev = build_dataset(words[n1:n2])\n",
    "Xte, Yte = build_dataset(words[n2:])"
   ],
   "id": "ea932aac72b1c197",
   "outputs": [],
   "execution_count": null
  },
  {
   "metadata": {
    "ExecuteTime": {
     "end_time": "2025-02-07T07:17:20.366861Z",
     "start_time": "2025-02-07T07:17:20.143334Z"
    }
   },
   "cell_type": "code",
   "outputs": [
    {
     "name": "stdout",
     "output_type": "stream",
     "text": [
      "torch.Size([182580, 3]) torch.Size([182580])\n",
      "torch.Size([22767, 3]) torch.Size([22767])\n",
      "torch.Size([22799, 3]) torch.Size([22799])\n"
     ]
    }
   ],
   "execution_count": 21,
   "source": [
    "def cmp(s ,dt, t):\n",
    "    ex = torch.all(dt == t.grad).item()\n",
    "    app = torch.allclose(dt, t.grad)\n",
    "    maxdiff = (dt - t.grad).abs().max().item()\n",
    "    print(f'{s:15s} | exact: {str(ex):5s} | approximate: {str(app):5s} | maxdiff:{maxdiff}' )"
   ],
   "id": "bceb60f1d1968533"
  },
  {
   "metadata": {
    "ExecuteTime": {
     "end_time": "2025-02-07T07:18:38.140673Z",
     "start_time": "2025-02-07T07:18:38.137072Z"
    }
   },
   "cell_type": "code",
   "source": [
    "vocab_size = 27\n",
    "n_embd = 10\n",
    "n_hidden = 200\n",
    "\n",
    "g = torch.Generator().manual_seed(42)\n",
    "C = torch.randn((vocab_size, n_embd), generator=g)\n",
    "w1 = torch.randn((block_size*n_embd, n_hidden ), generator=g) * (5/3) / (block_size * n_embd ** 0.5)\n",
    "b1 = torch.randn(n_hidden, generator=g) * 0.1\n",
    "w2 = torch.randn((n_hidden, vocab_size), generator=g) * 0.1\n",
    "b2 = torch.randn(vocab_size, generator=g) * 0.1\n",
    "\n",
    "bngain = torch.ones((1, n_hidden))* 0.1\n",
    "bnbias = torch.zeros((1, n_hidden))* 0.1\n",
    "bnmean_running = torch.zeros((1, n_hidden))\n",
    "bnstd_running = torch.ones((1, n_hidden))\n",
    "parameters = [C, w1,  w2, b2, bngain, bnbias]\n",
    "print(sum(p.nelement() for p in parameters))\n",
    "for p in parameters:\n",
    "    p.requires_grad = True"
   ],
   "id": "582f9754b65a3aa5",
   "outputs": [
    {
     "name": "stdout",
     "output_type": "stream",
     "text": [
      "12097\n"
     ]
    }
   ],
   "execution_count": 28
  },
  {
   "metadata": {
    "ExecuteTime": {
     "end_time": "2025-02-07T07:18:38.496609Z",
     "start_time": "2025-02-07T07:18:38.493208Z"
    }
   },
   "cell_type": "code",
   "source": "(torch.randn(1000) * 0.2).std()",
   "id": "6a6ee665850508eb",
   "outputs": [
    {
     "data": {
      "text/plain": [
       "tensor(0.1898)"
      ]
     },
     "execution_count": 29,
     "metadata": {},
     "output_type": "execute_result"
    }
   ],
   "execution_count": 29
  },
  {
   "metadata": {
    "ExecuteTime": {
     "end_time": "2025-02-07T07:18:38.775429Z",
     "start_time": "2025-02-07T07:18:38.772806Z"
    }
   },
   "cell_type": "code",
   "source": [
    "(5/3) / (30 ** 0.5)\n",
    "# wanted std"
   ],
   "id": "85dd6022b622ee78",
   "outputs": [
    {
     "data": {
      "text/plain": [
       "0.3042903097250923"
      ]
     },
     "execution_count": 30,
     "metadata": {},
     "output_type": "execute_result"
    }
   ],
   "execution_count": 30
  },
  {
   "metadata": {
    "ExecuteTime": {
     "end_time": "2025-02-07T07:18:39.145183Z",
     "start_time": "2025-02-07T07:18:39.143464Z"
    }
   },
   "cell_type": "code",
   "source": [
    "#lre = torch.linspace(-3, 0, 1000)\n",
    "#lrs = 10**lre\n"
   ],
   "id": "7d0c86cd53fef85d",
   "outputs": [],
   "execution_count": 31
  },
  {
   "metadata": {
    "ExecuteTime": {
     "end_time": "2025-02-07T07:18:39.517284Z",
     "start_time": "2025-02-07T07:18:39.514810Z"
    }
   },
   "cell_type": "code",
   "source": [
    "#lri = []\n",
    "lossi = []\n",
    "stepi = []"
   ],
   "id": "7d8c739241be36a8",
   "outputs": [],
   "execution_count": 32
  },
  {
   "metadata": {
    "ExecuteTime": {
     "end_time": "2025-02-07T07:18:58.549087Z",
     "start_time": "2025-02-07T07:18:40.043244Z"
    }
   },
   "cell_type": "code",
   "source": [
    "max_steps = 20000\n",
    "batch_size = 32\n",
    "n = batch_size\n",
    "\n",
    "# minibatch construct\n",
    "ix = torch.randint(0, Xtr.shape[0], (batch_size,))\n",
    "\n",
    "emb = C[Xtr[ix]]\n",
    "embcat = emb.view(emb.shape[0], -1)\n",
    "hprebn = embcat @ w1 + b1\n",
    "\n",
    "bnmeani = 1/n*hprebn.sum(0, keepdim=True)\n",
    "bndiff = hprebn - bnmeani\n",
    "bndiff2 = bndiff**2\n",
    "bnvar = 1/(n-1)*(bndiff2).sum(0, keepdim=True)\n",
    "bnvar_inv = (bnvar + 1e-5)**-0.5\n",
    "bnraw = bndiff * bnvar_inv\n",
    "hpreact = bngain*bnraw + bnbias\n",
    "\n",
    "\n",
    "h = torch.tanh(hpreact)\n",
    "logits = h @ w2 + b2\n",
    "\n",
    "logit_maxes = logits.max(1, keepdim=True).values\n",
    "norm_logits = logits - logit_maxes\n",
    "counts = norm_logits.exp()\n",
    "counts_sum = counts.sum(1, keepdims=True)\n",
    "counts_sum_inv = counts_sum**-1\n",
    "probs = counts * counts_sum_inv\n",
    "logprobs = probs.log()\n",
    "loss = -logprobs(range(n), Ytr[ix]).mean()\n",
    "\n",
    "for p in parameters:\n",
    "    p.grad = None\n",
    "for t in [logits, probs, counts, counts_sum, counts_sum_inv,\n",
    "    norm_logits, logit_maxes,logits, h, hprebn, hpreact, bnraw,\n",
    "    bnvar, bnvar_inv, bndiff, bndiff2, bnmeani, embcat, emb]:\n",
    "    t.retain_grad()\n",
    "\n",
    "loss.backward()\n"
   ],
   "id": "5912402d7a381bbb",
   "outputs": [
    {
     "name": "stdout",
     "output_type": "stream",
     "text": [
      "1.8795043230056763\n"
     ]
    }
   ],
   "execution_count": 33
  },
  {
   "metadata": {
    "ExecuteTime": {
     "end_time": "2025-02-07T06:38:00.045232Z",
     "start_time": "2025-02-07T06:37:59.958773Z"
    }
   },
   "cell_type": "code",
   "source": "plt.hist(h.view(-1).tolist(),50)",
   "id": "cf17c713d72c1df2",
   "outputs": [
    {
     "data": {
      "text/plain": [
       "(array([158., 175., 179., 186., 181., 153., 143., 137., 147., 137., 133.,\n",
       "        126., 115., 127., 103., 101., 128., 118.,  82.,  86., 110.,  93.,\n",
       "         79.,  91.,  98.,  89.,  99., 124., 104., 100.,  88., 104.,  84.,\n",
       "        100., 121.,  98., 111., 126., 129., 124., 136., 121., 174., 176.,\n",
       "        170., 146., 177., 186., 178., 149.]),\n",
       " array([-9.98308599e-01, -9.58369194e-01, -9.18429790e-01, -8.78490385e-01,\n",
       "        -8.38550980e-01, -7.98611575e-01, -7.58672171e-01, -7.18732766e-01,\n",
       "        -6.78793361e-01, -6.38853956e-01, -5.98914552e-01, -5.58975147e-01,\n",
       "        -5.19035742e-01, -4.79096338e-01, -4.39156933e-01, -3.99217528e-01,\n",
       "        -3.59278123e-01, -3.19338719e-01, -2.79399314e-01, -2.39459909e-01,\n",
       "        -1.99520504e-01, -1.59581100e-01, -1.19641695e-01, -7.97022903e-02,\n",
       "        -3.97628856e-02,  1.76519156e-04,  4.01159239e-02,  8.00553286e-02,\n",
       "         1.19994733e-01,  1.59934138e-01,  1.99873543e-01,  2.39812948e-01,\n",
       "         2.79752352e-01,  3.19691757e-01,  3.59631162e-01,  3.99570566e-01,\n",
       "         4.39509971e-01,  4.79449376e-01,  5.19388781e-01,  5.59328185e-01,\n",
       "         5.99267590e-01,  6.39206995e-01,  6.79146399e-01,  7.19085804e-01,\n",
       "         7.59025209e-01,  7.98964614e-01,  8.38904018e-01,  8.78843423e-01,\n",
       "         9.18782828e-01,  9.58722233e-01,  9.98661637e-01]),\n",
       " <BarContainer object of 50 artists>)"
      ]
     },
     "execution_count": 73,
     "metadata": {},
     "output_type": "execute_result"
    },
    {
     "data": {
      "text/plain": [
       "<Figure size 640x480 with 1 Axes>"
      ],
      "image/png": "[encoded data removed]"
     },
     "metadata": {},
     "output_type": "display_data"
    }
   ],
   "execution_count": 73
  },
  {
   "metadata": {
    "ExecuteTime": {
     "end_time": "2025-02-07T06:12:24.460663Z",
     "start_time": "2025-02-07T06:12:24.281788Z"
    }
   },
   "cell_type": "code",
   "source": [
    "#plt.plot(lri, lossi)\n",
    "#plt.plot(stepi, lossi)\n",
    "plt.plot(stepi, lossi)"
   ],
   "id": "83494349391267ac",
   "outputs": [
    {
     "data": {
      "text/plain": [
       "[<matplotlib.lines.Line2D at 0x1f00c7be0d0>]"
      ]
     },
     "execution_count": 54,
     "metadata": {},
     "output_type": "execute_result"
    },
    {
     "data": {
      "text/plain": [
       "<Figure size 640x480 with 1 Axes>"
      ],
      "image/png": "[encoded data removed]"
     },
     "metadata": {},
     "output_type": "display_data"
    }
   ],
   "execution_count": 54
  },
  {
   "metadata": {
    "ExecuteTime": {
     "end_time": "2025-02-07T07:19:28.267941Z",
     "start_time": "2025-02-07T07:19:28.180562Z"
    }
   },
   "cell_type": "code",
   "source": [
    "emb = C[Xdev]\n",
    "embcat = emb.view(emb.shape[0], -1)\n",
    "hpre = embcat @ w1 # +b1\n",
    "hpre = bngain*(hpre - bnmean_running) / bnstd_running + bnbias\n",
    "h = torch.tanh(hpre)\n",
    "logits = h @ w2 + b2\n",
    "    # counts = logits.exp()\n",
    "    # prob = counts / counts.sum(1, keepdims=True)\n",
    "    # loss = -prob[torch.arange(32), Y].log().mean()\n",
    "loss = F.cross_entropy(logits, Ydev)\n",
    "loss"
   ],
   "id": "eb591354e1ee0b2c",
   "outputs": [
    {
     "data": {
      "text/plain": [
       "tensor(2.1906, grad_fn=<NllLossBackward0>)"
      ]
     },
     "execution_count": 34,
     "metadata": {},
     "output_type": "execute_result"
    }
   ],
   "execution_count": 34
  },
  {
   "metadata": {
    "ExecuteTime": {
     "end_time": "2025-02-07T06:12:54.227579Z",
     "start_time": "2025-02-07T06:12:54.133373Z"
    }
   },
   "cell_type": "code",
   "source": [
    "plt.figure(figsize=(8,8))\n",
    "plt.scatter(C[:,0].data, C[:,1].data, s=200)\n",
    "for i in range(C.shape[0]):\n",
    "    plt.text(C[i, 0].item(), C[i, 1].item(), itos[i], ha=\"center\", va=\"center\", color=\"white\")\n",
    "plt.grid(\"miner\")"
   ],
   "id": "96f80153aea3e739",
   "outputs": [
    {
     "data": {
      "text/plain": [
       "<Figure size 800x800 with 1 Axes>"
      ],
      "image/png": "[encoded data removed]"
     },
     "metadata": {},
     "output_type": "display_data"
    }
   ],
   "execution_count": 56
  },
  {
   "metadata": {},
   "cell_type": "code",
   "outputs": [],
   "execution_count": null,
   "source": "# training, validation, testing",
   "id": "8f772a980e649884"
  },
  {
   "metadata": {
    "ExecuteTime": {
     "end_time": "2025-02-07T05:43:47.851372Z",
     "start_time": "2025-02-07T05:43:47.837545Z"
    }
   },
   "cell_type": "code",
   "source": [
    "# sampling\n",
    "\n",
    "for _ in range(20):\n",
    "\n",
    "    out = []\n",
    "    context = [0] * block_size\n",
    "    while True:\n",
    "        emb = C[torch.tensor([context])]\n",
    "        h = torch.tanh(emb.view(1, -1) @ w1 + b1)\n",
    "        logits = h @ w2 + b2\n",
    "        probs = F.softmax(logits, dim=1)\n",
    "       # print(probs.shape)\n",
    "        ix = torch.multinomial(probs, num_samples=1, generator=g).item()\n",
    "        context = context[1:] + [ix]\n",
    "        out.append(ix)\n",
    "        if ix == 0:\n",
    "            break\n",
    "    print(''. join(itos[i] for i in out))"
   ],
   "id": "ef15a9323d22d7b3",
   "outputs": [
    {
     "name": "stdout",
     "output_type": "stream",
     "text": [
      "kaydahlej.\n",
      "jaelopkissamaumun.\n",
      "emper.\n",
      "aviyanny.\n",
      "fayla.\n",
      "vonde.\n",
      "hataltroya.\n",
      "alan.\n",
      "edjoulyn.\n",
      "andon.\n",
      "anef.\n",
      "kamaria.\n",
      "shalsheejiadnn.\n",
      "relahelonnee.\n",
      "abayannahlia.\n",
      "ladolenn.\n",
      "oxlrigh.\n",
      "jeke.\n",
      "daeraaminey.\n",
      "rania.\n"
     ]
    }
   ],
   "execution_count": 12
  },
  {
   "metadata": {
    "ExecuteTime": {
     "end_time": "2025-02-07T05:43:48.054113Z",
     "start_time": "2025-02-07T05:43:48.052647Z"
    }
   },
   "cell_type": "code",
   "source": "",
   "id": "66672033fb83404e",
   "outputs": [],
   "execution_count": null
  },
  {
   "metadata": {},
   "cell_type": "code",
   "outputs": [],
   "execution_count": null,
   "source": "",
   "id": "689e07502caf28d3"
  }
 ],
 "metadata": {
  "kernelspec": {
   "display_name": "Python 3",
   "language": "python",
   "name": "python3"
  },
  "language_info": {
   "codemirror_mode": {
    "name": "ipython",
    "version": 2
   },
   "file_extension": ".py",
   "mimetype": "text/x-python",
   "name": "python",
   "nbconvert_exporter": "python",
   "pygments_lexer": "ipython2",
   "version": "2.7.6"
  }
 },
 "nbformat": 4,
 "nbformat_minor": 5
}
