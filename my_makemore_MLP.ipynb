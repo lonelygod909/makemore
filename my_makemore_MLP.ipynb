{
 "cells": [
  {
   "cell_type": "code",
   "id": "3124162a6e451ebd",
   "metadata": {
    "ExecuteTime": {
     "end_time": "2025-02-06T06:00:23.663925Z",
     "start_time": "2025-02-06T06:00:23.660996Z"
    }
   },
   "source": [
    "import torch\n",
    "import torch.nn.functional as F\n",
    "import matplotlib.pyplot as plt\n",
    "from parso import split_lines\n",
    "from torch.utils.data import random_split\n",
    "%matplotlib inline"
   ],
   "outputs": [],
   "execution_count": 5
  },
  {
   "metadata": {
    "collapsed": true,
    "ExecuteTime": {
     "end_time": "2025-02-06T06:00:35.813229Z",
     "start_time": "2025-02-06T06:00:35.807414Z"
    }
   },
   "cell_type": "code",
   "source": [
    "# read in words\n",
    "words = open('names.txt', 'r').read().splitlines()\n",
    "words[:8]"
   ],
   "id": "initial_id",
   "outputs": [
    {
     "data": {
      "text/plain": [
       "['emma', 'olivia', 'ava', 'isabella', 'sophia', 'charlotte', 'mia', 'amelia']"
      ]
     },
     "execution_count": 7,
     "metadata": {},
     "output_type": "execute_result"
    }
   ],
   "execution_count": 7
  },
  {
   "metadata": {
    "ExecuteTime": {
     "end_time": "2025-02-06T06:03:03.485768Z",
     "start_time": "2025-02-06T06:03:03.481095Z"
    }
   },
   "cell_type": "code",
   "source": [
    "chars = sorted(list(set(''.join(words))))\n",
    "stoi = {s:i+1 for i, s in enumerate(chars)}\n",
    "stoi['.'] = 0\n",
    "itos = {i:s for s, i in stoi.items()}\n",
    "print(itos)"
   ],
   "id": "58a39a0c8969ff5e",
   "outputs": [
    {
     "name": "stdout",
     "output_type": "stream",
     "text": [
      "{1: 'a', 2: 'b', 3: 'c', 4: 'd', 5: 'e', 6: 'f', 7: 'g', 8: 'h', 9: 'i', 10: 'j', 11: 'k', 12: 'l', 13: 'm', 14: 'n', 15: 'o', 16: 'p', 17: 'q', 18: 'r', 19: 's', 20: 't', 21: 'u', 22: 'v', 23: 'w', 24: 'x', 25: 'y', 26: 'z', 0: '.'}\n"
     ]
    }
   ],
   "execution_count": 9
  },
  {
   "metadata": {
    "ExecuteTime": {
     "end_time": "2025-02-06T09:11:50.108636Z",
     "start_time": "2025-02-06T09:11:49.871737Z"
    }
   },
   "cell_type": "code",
   "source": [
    "def build_dataset(words):\n",
    "    block_size = 3\n",
    "    X, Y = [] , []\n",
    "    for w in words:\n",
    "        #print(w)\n",
    "        context = [0] * block_size\n",
    "        for ch in w + '.':\n",
    "            ix = stoi[ch]\n",
    "            X.append(context)\n",
    "            Y.append(ix)\n",
    "            #print(''.join(itos[i] for i in context), '--->', itos[ix])\n",
    "            context = context[1:] + [ix]\n",
    "\n",
    "    X = torch.tensor(X)\n",
    "    Y = torch.tensor(Y)\n",
    "    print(X.shape, Y.shape)\n",
    "    return X, Y\n",
    "\n",
    "import random\n",
    "random.seed(42)\n",
    "random.shuffle(words)\n",
    "n1 = int(0.8 * len(words))\n",
    "n2 = int(0.9 * len(words))\n",
    "\n",
    "Xtr, Ytr = build_dataset(words[:n1])\n",
    "Xdev, Ydev = build_dataset(words[n1:n2])\n",
    "Xte, Yte = build_dataset(words[n2:])"
   ],
   "id": "bceb60f1d1968533",
   "outputs": [
    {
     "name": "stdout",
     "output_type": "stream",
     "text": [
      "torch.Size([182441, 3]) torch.Size([182441])\n",
      "torch.Size([22902, 3]) torch.Size([22902])\n",
      "torch.Size([22803, 3]) torch.Size([22803])\n"
     ]
    }
   ],
   "execution_count": 223
  },
  {
   "metadata": {
    "ExecuteTime": {
     "end_time": "2025-02-06T08:02:10.322738Z",
     "start_time": "2025-02-06T08:02:10.320115Z"
    }
   },
   "cell_type": "code",
   "source": "C = torch.randn((27, 2))",
   "id": "81c6babc4d24effc",
   "outputs": [],
   "execution_count": 52
  },
  {
   "metadata": {
    "ExecuteTime": {
     "end_time": "2025-02-06T08:02:10.646800Z",
     "start_time": "2025-02-06T08:02:10.643072Z"
    }
   },
   "cell_type": "code",
   "source": "F.one_hot(torch.tensor(5), num_classes = 27).float() @ C",
   "id": "4fb65fa6957d29fd",
   "outputs": [
    {
     "data": {
      "text/plain": [
       "tensor([0.2296, 0.0498])"
      ]
     },
     "execution_count": 53,
     "metadata": {},
     "output_type": "execute_result"
    }
   ],
   "execution_count": 53
  },
  {
   "metadata": {
    "ExecuteTime": {
     "end_time": "2025-02-06T08:02:11.032328Z",
     "start_time": "2025-02-06T08:02:11.028792Z"
    }
   },
   "cell_type": "code",
   "source": "C[5]",
   "id": "635ae2c5115d088d",
   "outputs": [
    {
     "data": {
      "text/plain": [
       "tensor([0.2296, 0.0498])"
      ]
     },
     "execution_count": 54,
     "metadata": {},
     "output_type": "execute_result"
    }
   ],
   "execution_count": 54
  },
  {
   "metadata": {
    "ExecuteTime": {
     "end_time": "2025-02-06T08:02:11.434625Z",
     "start_time": "2025-02-06T08:02:11.430222Z"
    }
   },
   "cell_type": "code",
   "source": "C[X].shape",
   "id": "3b22e171cb971276",
   "outputs": [
    {
     "data": {
      "text/plain": [
       "torch.Size([228146, 3, 2])"
      ]
     },
     "execution_count": 55,
     "metadata": {},
     "output_type": "execute_result"
    }
   ],
   "execution_count": 55
  },
  {
   "metadata": {
    "ExecuteTime": {
     "end_time": "2025-02-06T08:02:44.949527Z",
     "start_time": "2025-02-06T08:02:44.914638Z"
    }
   },
   "cell_type": "code",
   "source": [
    "emb = C[X]\n",
    "emb = torch.cat(torch.unbind(emb, 1), 1)\n",
    "emb.shape"
   ],
   "id": "ade8a3f1eee67de6",
   "outputs": [
    {
     "data": {
      "text/plain": [
       "torch.Size([228146, 6])"
      ]
     },
     "execution_count": 63,
     "metadata": {},
     "output_type": "execute_result"
    }
   ],
   "execution_count": 63
  },
  {
   "metadata": {
    "ExecuteTime": {
     "end_time": "2025-02-06T08:02:45.112515Z",
     "start_time": "2025-02-06T08:02:45.110162Z"
    }
   },
   "cell_type": "code",
   "source": [
    "w1 = torch.randn((6, 100))\n",
    "b1 = torch.randn(100)"
   ],
   "id": "25e6361103fdee37",
   "outputs": [],
   "execution_count": 64
  },
  {
   "metadata": {
    "ExecuteTime": {
     "end_time": "2025-02-06T08:02:45.448478Z",
     "start_time": "2025-02-06T08:02:45.324087Z"
    }
   },
   "cell_type": "code",
   "source": "h = torch.tanh(emb.view(-1, 6) @ w1 + b1)",
   "id": "8bec5594e46b07a1",
   "outputs": [],
   "execution_count": 65
  },
  {
   "metadata": {
    "ExecuteTime": {
     "end_time": "2025-02-06T08:02:45.504330Z",
     "start_time": "2025-02-06T08:02:45.501851Z"
    }
   },
   "cell_type": "code",
   "source": "h.shape",
   "id": "d5bf2acd27cdbe62",
   "outputs": [
    {
     "data": {
      "text/plain": [
       "torch.Size([228146, 100])"
      ]
     },
     "execution_count": 66,
     "metadata": {},
     "output_type": "execute_result"
    }
   ],
   "execution_count": 66
  },
  {
   "metadata": {
    "ExecuteTime": {
     "end_time": "2025-02-06T08:02:45.764063Z",
     "start_time": "2025-02-06T08:02:45.761934Z"
    }
   },
   "cell_type": "code",
   "source": [
    "w2 = torch.randn((100, 27))\n",
    "b2 = torch.randn(27)"
   ],
   "id": "c0015778027f5240",
   "outputs": [],
   "execution_count": 67
  },
  {
   "metadata": {
    "ExecuteTime": {
     "end_time": "2025-02-06T08:02:46.129870Z",
     "start_time": "2025-02-06T08:02:46.021110Z"
    }
   },
   "cell_type": "code",
   "source": [
    "logits = h @ w2 + b2\n",
    "counts = logits.exp()\n",
    "prob = counts / counts.sum(1, keepdims=True)"
   ],
   "id": "a8d91a32980f0ca3",
   "outputs": [],
   "execution_count": 68
  },
  {
   "metadata": {
    "ExecuteTime": {
     "end_time": "2025-02-06T08:02:46.229459Z",
     "start_time": "2025-02-06T08:02:46.225988Z"
    }
   },
   "cell_type": "code",
   "source": "prob.shape",
   "id": "5b209adfd4b41c10",
   "outputs": [
    {
     "data": {
      "text/plain": [
       "torch.Size([228146, 27])"
      ]
     },
     "execution_count": 69,
     "metadata": {},
     "output_type": "execute_result"
    }
   ],
   "execution_count": 69
  },
  {
   "metadata": {
    "ExecuteTime": {
     "end_time": "2025-02-06T09:12:01.360265Z",
     "start_time": "2025-02-06T09:12:01.357452Z"
    }
   },
   "cell_type": "code",
   "source": [
    "g = torch.Generator().manual_seed(42)\n",
    "C = torch.randn((27, 10), generator=g)\n",
    "w1 = torch.randn((30, 300), generator=g)\n",
    "b1 = torch.randn(300, generator=g)\n",
    "w2 = torch.randn((300, 27), generator=g)\n",
    "b2 = torch.randn(27, generator=g)\n",
    "parameters = [C, w1, b1, w2, b2]"
   ],
   "id": "85dd6022b622ee78",
   "outputs": [],
   "execution_count": 224
  },
  {
   "metadata": {
    "ExecuteTime": {
     "end_time": "2025-02-06T09:12:01.893629Z",
     "start_time": "2025-02-06T09:12:01.890884Z"
    }
   },
   "cell_type": "code",
   "source": "sum(p.nelement() for p in parameters)",
   "id": "d28a8877cd2d5d4f",
   "outputs": [
    {
     "data": {
      "text/plain": [
       "17697"
      ]
     },
     "execution_count": 225,
     "metadata": {},
     "output_type": "execute_result"
    }
   ],
   "execution_count": 225
  },
  {
   "metadata": {
    "ExecuteTime": {
     "end_time": "2025-02-06T09:12:04.347463Z",
     "start_time": "2025-02-06T09:12:04.345210Z"
    }
   },
   "cell_type": "code",
   "source": [
    "for p in parameters:\n",
    "    p.requires_grad = True"
   ],
   "id": "db2bc6f2ec209812",
   "outputs": [],
   "execution_count": 226
  },
  {
   "metadata": {
    "ExecuteTime": {
     "end_time": "2025-02-06T09:12:04.654661Z",
     "start_time": "2025-02-06T09:12:04.652360Z"
    }
   },
   "cell_type": "code",
   "source": [
    "#lre = torch.linspace(-3, 0, 1000)\n",
    "#lrs = 10**lre\n"
   ],
   "id": "7d0c86cd53fef85d",
   "outputs": [],
   "execution_count": 227
  },
  {
   "metadata": {
    "ExecuteTime": {
     "end_time": "2025-02-06T09:12:04.958671Z",
     "start_time": "2025-02-06T09:12:04.955651Z"
    }
   },
   "cell_type": "code",
   "source": [
    "#lri = []\n",
    "lossi = []\n",
    "stepi = []"
   ],
   "id": "7d8c739241be36a8",
   "outputs": [],
   "execution_count": 228
  },
  {
   "metadata": {
    "ExecuteTime": {
     "end_time": "2025-02-06T09:13:06.118015Z",
     "start_time": "2025-02-06T09:12:43.223052Z"
    }
   },
   "cell_type": "code",
   "source": [
    "\n",
    "for k in range(50000):\n",
    "    # minibatch construct\n",
    "    ix = torch.randint(0, Xtr.shape[0], (32,))\n",
    "\n",
    "    emb = C[Xtr[ix]]\n",
    "    h = torch.tanh(emb.view(-1, 30) @ w1 + b1)\n",
    "    logits = h @ w2 + b2\n",
    "    # counts = logits.exp()\n",
    "    # prob = counts / counts.sum(1, keepdims=True)\n",
    "    # loss = -prob[torch.arange(32), Y].log().mean()\n",
    "    loss = F.cross_entropy(logits, Ytr[ix])\n",
    "\n",
    "    for p in parameters:\n",
    "        p.grad = None\n",
    "    loss.backward()\n",
    "\n",
    "    #lr = lrs[k]\n",
    "    if k < 10000:\n",
    "        lr = 0.1\n",
    "    elif k >= 10000 & k < 20000:\n",
    "        lr = 0.05\n",
    "    else:\n",
    "        lr = 0.01\n",
    "    for p in parameters:\n",
    "        p.data += -lr * p.grad\n",
    "\n",
    "    # track lr\n",
    "    # lri.append(lre[k]) # exponent of lr\n",
    "    # lossi.append(loss.item())\n",
    "\n",
    "    stepi.append(k)\n",
    "    lossi.append(loss.log10().item())\n",
    "print(loss.item())"
   ],
   "id": "cf17c713d72c1df2",
   "outputs": [
    {
     "name": "stdout",
     "output_type": "stream",
     "text": [
      "2.215419054031372\n"
     ]
    }
   ],
   "execution_count": 232
  },
  {
   "metadata": {
    "ExecuteTime": {
     "end_time": "2025-02-06T08:46:22.121769Z",
     "start_time": "2025-02-06T08:46:22.011812Z"
    }
   },
   "cell_type": "code",
   "source": [
    "#plt.plot(lri, lossi)\n",
    "#plt.plot(stepi, lossi)\n",
    "plt.plot(stepi, lossi)"
   ],
   "id": "83494349391267ac",
   "outputs": [
    {
     "data": {
      "text/plain": [
       "[<matplotlib.lines.Line2D at 0x29b23a31450>]"
      ]
     },
     "execution_count": 180,
     "metadata": {},
     "output_type": "execute_result"
    },
    {
     "data": {
      "text/plain": [
       "<Figure size 640x480 with 1 Axes>"
      ],
      "image/png": "[encoded data removed]"
     },
     "metadata": {},
     "output_type": "display_data"
    }
   ],
   "execution_count": 180
  },
  {
   "metadata": {
    "ExecuteTime": {
     "end_time": "2025-02-06T09:13:11.611481Z",
     "start_time": "2025-02-06T09:13:11.572622Z"
    }
   },
   "cell_type": "code",
   "source": [
    "emb = C[Xdev]\n",
    "h = torch.tanh(emb.view(-1, 30) @ w1 + b1)\n",
    "logits = h @ w2 + b2\n",
    "loss = F.cross_entropy(logits, Ydev)\n",
    "loss"
   ],
   "id": "eb591354e1ee0b2c",
   "outputs": [
    {
     "data": {
      "text/plain": [
       "tensor(2.3070, grad_fn=<NllLossBackward0>)"
      ]
     },
     "execution_count": 233,
     "metadata": {},
     "output_type": "execute_result"
    }
   ],
   "execution_count": 233
  },
  {
   "metadata": {
    "ExecuteTime": {
     "end_time": "2025-02-06T08:49:34.591392Z",
     "start_time": "2025-02-06T08:49:34.508053Z"
    }
   },
   "cell_type": "code",
   "source": [
    "plt.figure(figsize=(8,8))\n",
    "plt.scatter(C[:,0].data, C[:,1].data, s=200)\n",
    "for i in range(C.shape[0]):\n",
    "    plt.text(C[i, 0].item(), C[i, 1].item(), itos[i], ha=\"center\", va=\"center\", color=\"white\")\n",
    "plt.grid(\"miner\")"
   ],
   "id": "96f80153aea3e739",
   "outputs": [
    {
     "data": {
      "text/plain": [
       "<Figure size 800x800 with 1 Axes>"
      ],
      "image/png": "[encoded data removed]"
     },
     "metadata": {},
     "output_type": "display_data"
    }
   ],
   "execution_count": 185
  },
  {
   "metadata": {},
   "cell_type": "code",
   "outputs": [],
   "execution_count": null,
   "source": "# training, validation, testing",
   "id": "8f772a980e649884"
  },
  {
   "metadata": {
    "ExecuteTime": {
     "end_time": "2025-02-06T09:13:20.754062Z",
     "start_time": "2025-02-06T09:13:20.741687Z"
    }
   },
   "cell_type": "code",
   "source": [
    "# sampling\n",
    "block_size = 3\n",
    "for _ in range(20):\n",
    "\n",
    "    out = []\n",
    "    context = [0] * block_size\n",
    "    while True:\n",
    "        emb = C[torch.tensor([context])]\n",
    "        h = torch.tanh(emb.view(1, -1) @ w1 + b1)\n",
    "        logits = h @ w2 + b2\n",
    "        probs = F.softmax(logits, dim=1)\n",
    "       # print(probs.shape)\n",
    "        ix = torch.multinomial(probs, num_samples=1, generator=g).item()\n",
    "        context = context[1:] + [ix]\n",
    "        out.append(ix)\n",
    "        if ix == 0:\n",
    "            break\n",
    "    print(''. join(itos[i] for i in out))"
   ],
   "id": "ef15a9323d22d7b3",
   "outputs": [
    {
     "name": "stdout",
     "output_type": "stream",
     "text": [
      "gafundley.\n",
      "khantond.\n",
      "milyne.\n",
      "yuluwantiorah.\n",
      "pymberrisari.\n",
      "nah.\n",
      "vamadeem.\n",
      "wailebelondiel.\n",
      "ayverenzlouristedon.\n",
      "alie.\n",
      "adalexx.\n",
      "kasifyareem.\n",
      "alyn.\n",
      "emerise.\n",
      "hhan.\n",
      "vylilahestyn.\n",
      "mea.\n",
      "teckieland.\n",
      "geymy.\n",
      "ney.\n"
     ]
    }
   ],
   "execution_count": 235
  },
  {
   "metadata": {},
   "cell_type": "code",
   "outputs": [],
   "execution_count": null,
   "source": "",
   "id": "66672033fb83404e"
  }
 ],
 "metadata": {
  "kernelspec": {
   "display_name": "Python 3",
   "language": "python",
   "name": "python3"
  },
  "language_info": {
   "codemirror_mode": {
    "name": "ipython",
    "version": 2
   },
   "file_extension": ".py",
   "mimetype": "text/x-python",
   "name": "python",
   "nbconvert_exporter": "python",
   "pygments_lexer": "ipython2",
   "version": "2.7.6"
  }
 },
 "nbformat": 4,
 "nbformat_minor": 5
}
